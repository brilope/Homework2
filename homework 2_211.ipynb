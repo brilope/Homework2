{
 "cells": [
  {
   "cell_type": "code",
   "execution_count": 18,
   "metadata": {},
   "outputs": [],
   "source": [
    "import time, random, string\n",
    "import os, re, urllib.request as ureq\n",
    "from datetime import datetime"
   ]
  },
  {
   "cell_type": "code",
   "execution_count": 24,
   "metadata": {},
   "outputs": [
    {
     "name": "stdout",
     "output_type": "stream",
     "text": [
      "1000 passwords generated and logged successfully.\n"
     ]
    }
   ],
   "source": [
    "def log_password(password, password_type):\n",
    "    directory = password_type.capitalize()\n",
    "    if not os.path.exists(directory):\n",
    "        os.makedirs(directory)\n",
    "    with open(\"C:/Users/chemi/OneDrive/Coding/Generated_Passwords.txt\", 'a') as file:\n",
    "        file.write(f\"{password} - {datetime.now().strftime('%Y-%m-%d %H:%M:%S')}\\n\")\n",
    "\n",
    "def memorable_password(num_words, word_list):\n",
    "    return '-'.join(random.sample(word_list, num_words))\n",
    "\n",
    "def random_password(length, include_punctuation=True, exclude_chars=''):\n",
    "    chars = 'abcdefghijklmnopqrstuvwxyzABCDEFGHIJKLMNOPQRSTUVWXYZ0123456789'\n",
    "    if include_punctuation:\n",
    "        chars += '!@#$%^&*()-_=+[]{}|;:,.<>?'\n",
    "    chars = ''.join(c for c in chars if c not in exclude_chars)\n",
    "    return ''.join(random.choice(chars) for i in range(length))\n",
    "\n",
    "# Load the word list for memorable passwords\n",
    "with open(\"C:/Users/chemi/OneDrive/Coding/top_english_nouns_lower_100000.txt\", 'r') as file:\n",
    "    word_list = file.read().splitlines()\n",
    "\n",
    "# Generate 1000 passwords\n",
    "for _ in range(1000):\n",
    "    password_type = random.choice(['memorable', 'random'])\n",
    "    if password_type == 'memorable':\n",
    "        password = memorable_password(num_words=4, word_list=word_list)\n",
    "    else:\n",
    "        password = random_password(length=12, include_punctuation=True, exclude_chars='')\n",
    "    log_password(password, password_type)\n",
    "\n",
    "print(\"1000 passwords generated and logged successfully.\")"
   ]
  }
 ],
 "metadata": {
  "kernelspec": {
   "display_name": "base",
   "language": "python",
   "name": "python3"
  },
  "language_info": {
   "codemirror_mode": {
    "name": "ipython",
    "version": 3
   },
   "file_extension": ".py",
   "mimetype": "text/x-python",
   "name": "python",
   "nbconvert_exporter": "python",
   "pygments_lexer": "ipython3",
   "version": "3.11.4"
  }
 },
 "nbformat": 4,
 "nbformat_minor": 2
}
